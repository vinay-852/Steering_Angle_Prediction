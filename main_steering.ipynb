{
 "cells": [
  {
   "cell_type": "code",
   "execution_count": 1,
   "id": "19dd1aff",
   "metadata": {
    "_cell_guid": "b1076dfc-b9ad-4769-8c92-a6c4dae69d19",
    "_uuid": "8f2839f25d086af736a60e9eeb907d3b93b6e0e5",
    "execution": {
     "iopub.execute_input": "2024-05-20T01:52:18.152427Z",
     "iopub.status.busy": "2024-05-20T01:52:18.151846Z",
     "iopub.status.idle": "2024-05-20T01:52:34.695710Z",
     "shell.execute_reply": "2024-05-20T01:52:34.694660Z"
    },
    "executionInfo": {
     "elapsed": 6857,
     "status": "ok",
     "timestamp": 1716119715999,
     "user": {
      "displayName": "Vinay Pepakayala",
      "userId": "17275882149002673963"
     },
     "user_tz": -330
    },
    "id": "aAssbcW-ePiJ",
    "papermill": {
     "duration": 16.552271,
     "end_time": "2024-05-20T01:52:34.698171",
     "exception": false,
     "start_time": "2024-05-20T01:52:18.145900",
     "status": "completed"
    },
    "tags": []
   },
   "outputs": [
    {
     "name": "stderr",
     "output_type": "stream",
     "text": [
      "2024-05-20 01:52:23.212288: E external/local_xla/xla/stream_executor/cuda/cuda_dnn.cc:9261] Unable to register cuDNN factory: Attempting to register factory for plugin cuDNN when one has already been registered\n",
      "2024-05-20 01:52:23.212375: E external/local_xla/xla/stream_executor/cuda/cuda_fft.cc:607] Unable to register cuFFT factory: Attempting to register factory for plugin cuFFT when one has already been registered\n",
      "2024-05-20 01:52:23.336427: E external/local_xla/xla/stream_executor/cuda/cuda_blas.cc:1515] Unable to register cuBLAS factory: Attempting to register factory for plugin cuBLAS when one has already been registered\n"
     ]
    }
   ],
   "source": [
    "import torch\n",
    "import tensorflow.compat.v1 as tf\n",
    "tf.disable_v2_behavior()\n",
    "import cv2\n",
    "import torch.nn as nn\n",
    "import torch.optim as optim\n",
    "import torchvision.models as models\n",
    "import torch.nn.functional as F\n",
    "import torchvision.transforms as transforms\n",
    "from torch.utils.data import DataLoader, Dataset,random_split\n",
    "from PIL import Image\n",
    "import numpy as np\n",
    "import os\n",
    "import warnings\n",
    "from tqdm import tqdm\n",
    "warnings.filterwarnings('ignore')\n",
    "device = torch.device(\"cuda\" if torch.cuda.is_available() else \"cpu\")"
   ]
  },
  {
   "cell_type": "code",
   "execution_count": 2,
   "id": "5f0d6cb0",
   "metadata": {
    "execution": {
     "iopub.execute_input": "2024-05-20T01:52:34.709265Z",
     "iopub.status.busy": "2024-05-20T01:52:34.708724Z",
     "iopub.status.idle": "2024-05-20T01:52:34.716335Z",
     "shell.execute_reply": "2024-05-20T01:52:34.715539Z"
    },
    "id": "zEtThq4JePiL",
    "papermill": {
     "duration": 0.015,
     "end_time": "2024-05-20T01:52:34.718234",
     "exception": false,
     "start_time": "2024-05-20T01:52:34.703234",
     "status": "completed"
    },
    "tags": []
   },
   "outputs": [],
   "source": [
    "class SpatialPyramidPooling(nn.Module):\n",
    "    def __init__(self, pool_list):\n",
    "        super(SpatialPyramidPooling, self).__init__()\n",
    "        self.pool_list = pool_list\n",
    "\n",
    "    def forward(self, x):\n",
    "        # Get the batch size and number of channels\n",
    "        batch_size, num_channels, _, _ = x.size()\n",
    "\n",
    "        # Initialize the output list\n",
    "        pooled_outputs = []\n",
    "\n",
    "        # Iterate over each pooling size in the pool_list\n",
    "        for pool_size in self.pool_list:\n",
    "            # Perform max pooling with the specified pool size\n",
    "            pooled = F.adaptive_max_pool2d(x, output_size=(pool_size, pool_size))\n",
    "            # Reshape the pooled output to have shape (batch_size, num_channels, 1, 1)\n",
    "            pooled = pooled.view(batch_size, num_channels, -1)\n",
    "            # Append the pooled output to the output list\n",
    "            pooled_outputs.append(pooled)\n",
    "\n",
    "        # Concatenate the pooled outputs along the channel dimension\n",
    "        output = torch.cat(pooled_outputs, dim=-1)\n",
    "\n",
    "        # Reshape the output to have shape (batch_size, num_channels * sum(pool_list))\n",
    "        output = output.view(batch_size, -1)\n",
    "\n",
    "        return output"
   ]
  },
  {
   "cell_type": "code",
   "execution_count": 3,
   "id": "9e363fc9",
   "metadata": {
    "execution": {
     "iopub.execute_input": "2024-05-20T01:52:34.728684Z",
     "iopub.status.busy": "2024-05-20T01:52:34.727997Z",
     "iopub.status.idle": "2024-05-20T01:52:35.650613Z",
     "shell.execute_reply": "2024-05-20T01:52:35.649804Z"
    },
    "executionInfo": {
     "elapsed": 1276,
     "status": "ok",
     "timestamp": 1716032629702,
     "user": {
      "displayName": "Vinay Pepakayala",
      "userId": "17275882149002673963"
     },
     "user_tz": -330
    },
    "id": "CqopJ2DJePiL",
    "outputId": "ef97c75c-bec1-48c3-a44f-4d3b4d8c7ac1",
    "papermill": {
     "duration": 0.930117,
     "end_time": "2024-05-20T01:52:35.652841",
     "exception": false,
     "start_time": "2024-05-20T01:52:34.722724",
     "status": "completed"
    },
    "tags": []
   },
   "outputs": [
    {
     "name": "stderr",
     "output_type": "stream",
     "text": [
      "Downloading: \"https://download.pytorch.org/models/resnet18-f37072fd.pth\" to /root/.cache/torch/hub/checkpoints/resnet18-f37072fd.pth\n",
      "100%|██████████| 44.7M/44.7M [00:00<00:00, 138MB/s]\n"
     ]
    }
   ],
   "source": [
    "# Define the backbone model (ResNet or MobileNet)\n",
    "backbone = models.resnet18(pretrained=True)  # You can change to other models like MobileNet\n",
    "#backbone = models.mobilenet_v2(pretrained=True)\n",
    "\n",
    "# Remove the fully connected layer at the end\n",
    "backbone = nn.Sequential(*list(backbone.children())[:-1])\n",
    "input_channels = 512\n",
    "\n",
    "backbone = backbone.to(device)"
   ]
  },
  {
   "cell_type": "code",
   "execution_count": 4,
   "id": "974e4e4a",
   "metadata": {
    "execution": {
     "iopub.execute_input": "2024-05-20T01:52:35.664904Z",
     "iopub.status.busy": "2024-05-20T01:52:35.664216Z",
     "iopub.status.idle": "2024-05-20T01:52:35.670906Z",
     "shell.execute_reply": "2024-05-20T01:52:35.670095Z"
    },
    "id": "2wbrrPz5ePiM",
    "papermill": {
     "duration": 0.014501,
     "end_time": "2024-05-20T01:52:35.672723",
     "exception": false,
     "start_time": "2024-05-20T01:52:35.658222",
     "status": "completed"
    },
    "tags": []
   },
   "outputs": [],
   "source": [
    "# Define the basic CNN architecture to predict steering angle\n",
    "class SteeringCNN(nn.Module):\n",
    "    def __init__(self ,backbone,input_shape, hidden_size, output_size):\n",
    "        super(SteeringCNN, self).__init__()\n",
    "        self.backbone = backbone\n",
    "        self.spp = SpatialPyramidPooling(pool_list=[1, 2, 4])\n",
    "        self.fc1 = nn.Linear(input_shape* (1 + 4 + 16), hidden_size)\n",
    "        self.fc2 = nn.Linear(hidden_size, output_size)\n",
    "\n",
    "    def forward(self, x):\n",
    "        x = self.backbone(x)\n",
    "        x = self.spp(x)\n",
    "        x = torch.relu(self.fc1(x))\n",
    "        x = self.fc2(x)\n",
    "        return x"
   ]
  },
  {
   "cell_type": "code",
   "execution_count": 5,
   "id": "3c7fdab3",
   "metadata": {
    "execution": {
     "iopub.execute_input": "2024-05-20T01:52:35.683814Z",
     "iopub.status.busy": "2024-05-20T01:52:35.683572Z",
     "iopub.status.idle": "2024-05-20T01:52:35.691444Z",
     "shell.execute_reply": "2024-05-20T01:52:35.690713Z"
    },
    "id": "zLGDqkh_ePiM",
    "papermill": {
     "duration": 0.015598,
     "end_time": "2024-05-20T01:52:35.693288",
     "exception": false,
     "start_time": "2024-05-20T01:52:35.677690",
     "status": "completed"
    },
    "tags": []
   },
   "outputs": [],
   "source": [
    "class SteeringDataset(Dataset):\n",
    "    def __init__(self, root_dir, transform=None):\n",
    "        self.root_dir = root_dir\n",
    "        self.transform = transform\n",
    "        self.data = self.read_data_file()\n",
    "\n",
    "    def __len__(self):\n",
    "        return len(self.data)\n",
    "\n",
    "    def __getitem__(self, idx):\n",
    "        img_name, angle = self.data[idx]\n",
    "        img_path = os.path.join(self.root_dir, img_name)\n",
    "        image = Image.open(img_path)\n",
    "        angle = angle * 3.14159265 / 180\n",
    "        if self.transform:\n",
    "            image = self.transform(image)\n",
    "        return image, angle\n",
    "\n",
    "    def read_data_file(self):\n",
    "        data_file = os.path.join(self.root_dir, 'data.txt')\n",
    "        with open(data_file, 'r') as file:\n",
    "            lines = file.readlines()\n",
    "            data = [(os.path.join(self.root_dir,line.split()[0]), float(line.split()[1])) for line in lines]\n",
    "        return data"
   ]
  },
  {
   "cell_type": "code",
   "execution_count": 6,
   "id": "4c30efb3",
   "metadata": {
    "execution": {
     "iopub.execute_input": "2024-05-20T01:52:35.704359Z",
     "iopub.status.busy": "2024-05-20T01:52:35.704115Z",
     "iopub.status.idle": "2024-05-20T01:52:35.708812Z",
     "shell.execute_reply": "2024-05-20T01:52:35.707977Z"
    },
    "id": "v6K2rXYeePiM",
    "papermill": {
     "duration": 0.012378,
     "end_time": "2024-05-20T01:52:35.710708",
     "exception": false,
     "start_time": "2024-05-20T01:52:35.698330",
     "status": "completed"
    },
    "tags": []
   },
   "outputs": [],
   "source": [
    "# Define data transformations\n",
    "transform = transforms.Compose([\n",
    "    transforms.Resize((224, 224)),  # Resize input images to match backbone input size\n",
    "    transforms.ToTensor(),\n",
    "    transforms.Normalize(mean=[0.485, 0.456, 0.406], std=[0.229, 0.224, 0.225])  # Normalize images\n",
    "])"
   ]
  },
  {
   "cell_type": "code",
   "execution_count": 7,
   "id": "851b62cd",
   "metadata": {
    "execution": {
     "iopub.execute_input": "2024-05-20T01:52:35.721594Z",
     "iopub.status.busy": "2024-05-20T01:52:35.721349Z",
     "iopub.status.idle": "2024-05-20T01:52:35.725565Z",
     "shell.execute_reply": "2024-05-20T01:52:35.724822Z"
    },
    "id": "yTdFN3XOePiN",
    "papermill": {
     "duration": 0.011782,
     "end_time": "2024-05-20T01:52:35.727430",
     "exception": false,
     "start_time": "2024-05-20T01:52:35.715648",
     "status": "completed"
    },
    "tags": []
   },
   "outputs": [],
   "source": [
    "# Define hyperparameters\n",
    "input_size = 512  # Output feature size of ResNet18\n",
    "hidden_size = 256\n",
    "output_size = 1\n",
    "learning_rate = 0.001\n",
    "batch_size = 32\n",
    "num_epochs = 20"
   ]
  },
  {
   "cell_type": "code",
   "execution_count": 8,
   "id": "88a9cadd",
   "metadata": {
    "execution": {
     "iopub.execute_input": "2024-05-20T01:52:35.738557Z",
     "iopub.status.busy": "2024-05-20T01:52:35.738311Z",
     "iopub.status.idle": "2024-05-20T01:52:35.913935Z",
     "shell.execute_reply": "2024-05-20T01:52:35.913192Z"
    },
    "id": "ofw9tU8vePiN",
    "papermill": {
     "duration": 0.183543,
     "end_time": "2024-05-20T01:52:35.916117",
     "exception": false,
     "start_time": "2024-05-20T01:52:35.732574",
     "status": "completed"
    },
    "tags": []
   },
   "outputs": [],
   "source": [
    "# Create dataset and dataloaders\n",
    "dataset = SteeringDataset(root_dir = r\"/kaggle/input/driving-dataset/driving_dataset\", transform=transform)\n",
    "train_size = int(0.8*len(dataset))\n",
    "val_size = int(0.1*len(dataset))\n",
    "test_size = len(dataset) - train_size - val_size\n",
    "train_ds,val_ds,test_ds = random_split(dataset,[train_size,val_size,test_size])\n",
    "train_dataloader = DataLoader(train_ds, batch_size=batch_size, shuffle=True)\n",
    "val_dataloader = DataLoader(val_ds, batch_size=batch_size, shuffle=False)\n",
    "test_dataloader = DataLoader(test_ds, batch_size=batch_size, shuffle=False)"
   ]
  },
  {
   "cell_type": "code",
   "execution_count": 9,
   "id": "c0c86907",
   "metadata": {
    "execution": {
     "iopub.execute_input": "2024-05-20T01:52:35.928559Z",
     "iopub.status.busy": "2024-05-20T01:52:35.928272Z",
     "iopub.status.idle": "2024-05-20T01:52:35.964041Z",
     "shell.execute_reply": "2024-05-20T01:52:35.963163Z"
    },
    "id": "2AMsCCe1ePiN",
    "papermill": {
     "duration": 0.04374,
     "end_time": "2024-05-20T01:52:35.966040",
     "exception": false,
     "start_time": "2024-05-20T01:52:35.922300",
     "status": "completed"
    },
    "tags": []
   },
   "outputs": [],
   "source": [
    "# Create models\n",
    "model = SteeringCNN(backbone,input_channels, hidden_size, output_size).to(device)\n",
    "criterion = nn.MSELoss()\n",
    "optimizer = optim.Adam(model.parameters(), lr=learning_rate)"
   ]
  },
  {
   "cell_type": "code",
   "execution_count": 10,
   "id": "16e9ed00",
   "metadata": {
    "execution": {
     "iopub.execute_input": "2024-05-20T01:52:35.977175Z",
     "iopub.status.busy": "2024-05-20T01:52:35.976889Z",
     "iopub.status.idle": "2024-05-20T03:03:12.923643Z",
     "shell.execute_reply": "2024-05-20T03:03:12.922546Z"
    },
    "id": "RUbewFdHePiN",
    "outputId": "a914d3c7-9d40-4f39-f7b9-9a11357288cd",
    "papermill": {
     "duration": 4236.955164,
     "end_time": "2024-05-20T03:03:12.926237",
     "exception": false,
     "start_time": "2024-05-20T01:52:35.971073",
     "status": "completed"
    },
    "tags": []
   },
   "outputs": [
    {
     "name": "stderr",
     "output_type": "stream",
     "text": [
      "                                                          \r"
     ]
    },
    {
     "name": "stdout",
     "output_type": "stream",
     "text": [
      "Epoch [1],Train Loss: 0.8502,Val Loss: 0.3449\n"
     ]
    },
    {
     "name": "stderr",
     "output_type": "stream",
     "text": [
      "                                                          \r"
     ]
    },
    {
     "name": "stdout",
     "output_type": "stream",
     "text": [
      "Epoch [2],Train Loss: 0.3061,Val Loss: 0.4170\n"
     ]
    },
    {
     "name": "stderr",
     "output_type": "stream",
     "text": [
      "                                                          \r"
     ]
    },
    {
     "name": "stdout",
     "output_type": "stream",
     "text": [
      "Epoch [3],Train Loss: 0.3033,Val Loss: 0.3188\n"
     ]
    },
    {
     "name": "stderr",
     "output_type": "stream",
     "text": [
      "                                                          \r"
     ]
    },
    {
     "name": "stdout",
     "output_type": "stream",
     "text": [
      "Epoch [4],Train Loss: 0.2930,Val Loss: 0.3187\n"
     ]
    },
    {
     "name": "stderr",
     "output_type": "stream",
     "text": [
      "                                                          \r"
     ]
    },
    {
     "name": "stdout",
     "output_type": "stream",
     "text": [
      "Epoch [5],Train Loss: 0.2884,Val Loss: 0.3197\n"
     ]
    },
    {
     "name": "stderr",
     "output_type": "stream",
     "text": [
      "                                                          \r"
     ]
    },
    {
     "name": "stdout",
     "output_type": "stream",
     "text": [
      "Epoch [6],Train Loss: 0.2881,Val Loss: 0.3190\n"
     ]
    },
    {
     "name": "stderr",
     "output_type": "stream",
     "text": [
      "                                                          \r"
     ]
    },
    {
     "name": "stdout",
     "output_type": "stream",
     "text": [
      "Epoch [7],Train Loss: 0.2879,Val Loss: 0.3187\n"
     ]
    },
    {
     "name": "stderr",
     "output_type": "stream",
     "text": [
      "                                                          \r"
     ]
    },
    {
     "name": "stdout",
     "output_type": "stream",
     "text": [
      "Epoch [8],Train Loss: 0.2879,Val Loss: 0.3186\n"
     ]
    },
    {
     "name": "stderr",
     "output_type": "stream",
     "text": [
      "                                                          \r"
     ]
    },
    {
     "name": "stdout",
     "output_type": "stream",
     "text": [
      "Epoch [9],Train Loss: 0.2879,Val Loss: 0.3186\n"
     ]
    },
    {
     "name": "stderr",
     "output_type": "stream",
     "text": [
      "                                                           \r"
     ]
    },
    {
     "name": "stdout",
     "output_type": "stream",
     "text": [
      "Epoch [10],Train Loss: 0.2879,Val Loss: 0.3186\n"
     ]
    },
    {
     "name": "stderr",
     "output_type": "stream",
     "text": [
      "                                                           \r"
     ]
    },
    {
     "name": "stdout",
     "output_type": "stream",
     "text": [
      "Epoch [11],Train Loss: 0.2879,Val Loss: 0.3186\n"
     ]
    },
    {
     "name": "stderr",
     "output_type": "stream",
     "text": [
      "                                                           \r"
     ]
    },
    {
     "name": "stdout",
     "output_type": "stream",
     "text": [
      "Epoch [12],Train Loss: 0.2879,Val Loss: 0.3187\n"
     ]
    },
    {
     "name": "stderr",
     "output_type": "stream",
     "text": [
      "                                                           \r"
     ]
    },
    {
     "name": "stdout",
     "output_type": "stream",
     "text": [
      "Epoch [13],Train Loss: 0.2883,Val Loss: 0.3187\n"
     ]
    },
    {
     "name": "stderr",
     "output_type": "stream",
     "text": [
      "                                                           \r"
     ]
    },
    {
     "name": "stdout",
     "output_type": "stream",
     "text": [
      "Epoch [14],Train Loss: 0.2879,Val Loss: 0.3187\n"
     ]
    },
    {
     "name": "stderr",
     "output_type": "stream",
     "text": [
      "                                                           \r"
     ]
    },
    {
     "name": "stdout",
     "output_type": "stream",
     "text": [
      "Epoch [15],Train Loss: 0.2882,Val Loss: 0.3187\n"
     ]
    },
    {
     "name": "stderr",
     "output_type": "stream",
     "text": [
      "                                                           \r"
     ]
    },
    {
     "name": "stdout",
     "output_type": "stream",
     "text": [
      "Epoch [16],Train Loss: 0.2880,Val Loss: 0.3188\n"
     ]
    },
    {
     "name": "stderr",
     "output_type": "stream",
     "text": [
      "                                                           \r"
     ]
    },
    {
     "name": "stdout",
     "output_type": "stream",
     "text": [
      "Epoch [17],Train Loss: 0.2879,Val Loss: 0.3187\n"
     ]
    },
    {
     "name": "stderr",
     "output_type": "stream",
     "text": [
      "                                                           \r"
     ]
    },
    {
     "name": "stdout",
     "output_type": "stream",
     "text": [
      "Epoch [18],Train Loss: 0.2879,Val Loss: 0.3187\n"
     ]
    },
    {
     "name": "stderr",
     "output_type": "stream",
     "text": [
      "                                                           \r"
     ]
    },
    {
     "name": "stdout",
     "output_type": "stream",
     "text": [
      "Epoch [19],Train Loss: 0.2879,Val Loss: 0.3186\n"
     ]
    },
    {
     "name": "stderr",
     "output_type": "stream",
     "text": [
      "                                                           "
     ]
    },
    {
     "name": "stdout",
     "output_type": "stream",
     "text": [
      "Epoch [20],Train Loss: 0.2879,Val Loss: 0.3186\n"
     ]
    },
    {
     "name": "stderr",
     "output_type": "stream",
     "text": [
      "\r"
     ]
    }
   ],
   "source": [
    "# Training loop\n",
    "training_losses = []\n",
    "for epoch in range(num_epochs):\n",
    "    model.train()\n",
    "    train_loss = 0.0\n",
    "    for images, angles in tqdm(train_dataloader, desc=f'Epoch {epoch+1}', leave=False):\n",
    "        images = images.to(device)\n",
    "        angles = angles.to(device)\n",
    "        # Forward pass\n",
    "        outputs = model(images)\n",
    "        loss = criterion(outputs, angles.float())\n",
    "        train_loss += loss.item()\n",
    "\n",
    "        # Backward pass and optimization\n",
    "        optimizer.zero_grad()\n",
    "        loss.backward()\n",
    "        optimizer.step()\n",
    "\n",
    "    # Validation\n",
    "    model.eval()\n",
    "    val_loss = 0.0\n",
    "    with torch.no_grad():\n",
    "        for images, angles in tqdm(val_dataloader,desc=f'Epoch {epoch+1}', leave=False):\n",
    "            images = images.to(device)\n",
    "            angles = angles.to(device)\n",
    "            # Forward pass\n",
    "            outputs = model(images)\n",
    "            loss = criterion(outputs, angles.unsqueeze(1).float())\n",
    "\n",
    "            val_loss += loss.item()\n",
    "\n",
    "    # Average losses\n",
    "    train_loss = train_loss / len(train_dataloader)\n",
    "    training_losses.append(train_loss)\n",
    "    val_loss = val_loss / len(val_dataloader)\n",
    "\n",
    "\n",
    "    print(f'Epoch [{epoch+1}],Train Loss: {train_loss:.4f},Val Loss: {val_loss:.4f}')"
   ]
  },
  {
   "cell_type": "code",
   "execution_count": 11,
   "id": "9977160f",
   "metadata": {
    "execution": {
     "iopub.execute_input": "2024-05-20T03:03:17.275638Z",
     "iopub.status.busy": "2024-05-20T03:03:17.275151Z",
     "iopub.status.idle": "2024-05-20T03:03:17.361052Z",
     "shell.execute_reply": "2024-05-20T03:03:17.360037Z"
    },
    "id": "nJhbzgWBfg8t",
    "papermill": {
     "duration": 2.25439,
     "end_time": "2024-05-20T03:03:17.363605",
     "exception": false,
     "start_time": "2024-05-20T03:03:15.109215",
     "status": "completed"
    },
    "tags": []
   },
   "outputs": [],
   "source": [
    "torch.save(model.state_dict(), 'steering_model.pth')"
   ]
  },
  {
   "cell_type": "code",
   "execution_count": 12,
   "id": "efa03236",
   "metadata": {
    "execution": {
     "iopub.execute_input": "2024-05-20T03:03:21.686647Z",
     "iopub.status.busy": "2024-05-20T03:03:21.686257Z",
     "iopub.status.idle": "2024-05-20T03:04:16.102765Z",
     "shell.execute_reply": "2024-05-20T03:04:16.101645Z"
    },
    "papermill": {
     "duration": 56.621108,
     "end_time": "2024-05-20T03:04:16.104829",
     "exception": false,
     "start_time": "2024-05-20T03:03:19.483721",
     "status": "completed"
    },
    "tags": []
   },
   "outputs": [
    {
     "name": "stderr",
     "output_type": "stream",
     "text": [
      "                                                           "
     ]
    },
    {
     "name": "stdout",
     "output_type": "stream",
     "text": [
      "TestLoss: 40.9581\n"
     ]
    },
    {
     "name": "stderr",
     "output_type": "stream",
     "text": [
      "\r"
     ]
    }
   ],
   "source": [
    "# Testing\n",
    "model.eval()\n",
    "test_loss = 0.0\n",
    "with torch.no_grad():\n",
    "    for images, angles in tqdm(test_dataloader,desc=f'Epoch {epoch+1}', leave=False):\n",
    "        images = images.to(device)\n",
    "        angles = angles.to(device)\n",
    "\n",
    "        # Forward pass\n",
    "        outputs = model(images)\n",
    "        loss = criterion(outputs, angles.unsqueeze(1).float())\n",
    "\n",
    "        test_loss += loss.item()\n",
    "print(f\"TestLoss: {test_loss:.4f}\")"
   ]
  },
  {
   "cell_type": "code",
   "execution_count": null,
   "id": "1943ddad",
   "metadata": {
    "papermill": {
     "duration": 2.1666,
     "end_time": "2024-05-20T03:04:20.441585",
     "exception": false,
     "start_time": "2024-05-20T03:04:18.274985",
     "status": "completed"
    },
    "tags": []
   },
   "outputs": [],
   "source": []
  }
 ],
 "metadata": {
  "accelerator": "GPU",
  "colab": {
   "gpuType": "T4",
   "provenance": []
  },
  "kaggle": {
   "accelerator": "nvidiaTeslaT4",
   "dataSources": [
    {
     "datasetId": 5041771,
     "sourceId": 8458586,
     "sourceType": "datasetVersion"
    },
    {
     "datasetId": 5042648,
     "sourceId": 8459736,
     "sourceType": "datasetVersion"
    }
   ],
   "dockerImageVersionId": 30699,
   "isGpuEnabled": true,
   "isInternetEnabled": true,
   "language": "python",
   "sourceType": "notebook"
  },
  "kernelspec": {
   "display_name": "Python 3",
   "language": "python",
   "name": "python3"
  },
  "language_info": {
   "codemirror_mode": {
    "name": "ipython",
    "version": 3
   },
   "file_extension": ".py",
   "mimetype": "text/x-python",
   "name": "python",
   "nbconvert_exporter": "python",
   "pygments_lexer": "ipython3",
   "version": "3.10.13"
  },
  "papermill": {
   "default_parameters": {},
   "duration": 4330.201092,
   "end_time": "2024-05-20T03:04:25.677708",
   "environment_variables": {},
   "exception": null,
   "input_path": "__notebook__.ipynb",
   "output_path": "__notebook__.ipynb",
   "parameters": {},
   "start_time": "2024-05-20T01:52:15.476616",
   "version": "2.5.0"
  }
 },
 "nbformat": 4,
 "nbformat_minor": 5
}
